#IMPORTING LIBRARIES
import pandas as pd
import numpy as np
import matplotlib.pyplot as plt
import seaborn as sns

#IMPORTING AND READING THE DATASET
df=pd.read_csv("heartdisease.csv")
df.head()
df.shape
df.keys()
df.info()
df.describe()

#REMOVING NaN VALUES
df.isna().sum()
df.isnull().sum()
df.shape
df.dropna(axis=0,inplace=True)
print(df.shape)
df['TenYearCHD'].value_counts()

#SEPARATING THE DATA INTO FEATURE AND TARGET DATA
x=df.iloc[:,0:15]
y=df.iloc[:,15:16]
x.head()
x.tail()
y.head()
y.tail()

#SPLITTING INTO TRAINING AND TESTING DATASETS
from sklearn.model_selection import train_test_split
xtrain,xtest,ytrain,ytest=train_test_split(x,y,test_size=0.25,random_state=42)

#APPLYING THE MODEL
from sklearn.linear_model import LogisticRegression
logreg=LogisticRegression()

# Train the logistic regression model with feature names
logreg.fit(xtrain, ytrain)
y_pred=logreg.predict(xtest)
print(y_pred)
score=logreg.score(xtest,ytest)
print("Prediction score is : ",score)

#ACCURACY
from sklearn.metrics import accuracy_score
print('Accuracy of the model is =',accuracy_score(ytest, y_pred))
print('Accuracy: {}%\n'.format(round((accuracy_score(ytest, y_pred)*100),2)))

#CONFUSION MATRIX
from sklearn.metrics import confusion_matrix,classification_report
cm=confusion_matrix(ytest,y_pred)
print("Confusion Matrix is : \n",cm)

#CLASSIFICATION MATRIX
print("Classification Report is : \n\n",classification_report(ytest,y_pred))
conf_matrix=pd.DataFrame(data=cm,columns=['Predicted:0', 'Predicted:1'],index=['Actual:0', 'Actual:1'])
plt.figure(figsize=(8,6))
sns.heatmap(conf_matrix,annot=True,fmt='d',cmap="Greens",linecolor="Black",linewidth=1.0)
plt.show()

#PREDICTING THE DATA1
data=(0,46,2.0,0,0.0,0.0,0,0,0,250.0,121.0,81.0,28.73,95.0,76.0)
data_array=np.asarray(data)
data_array_reshape=data_array.reshape(1,-1)
prediction=logreg.predict(data_array_reshape)
print(prediction)
if(prediction[0]==0):
    print("No heart disease")
else:
    print("Heart disease")

#PREDICTING THE DATA2
data1=(1,68,1.0,0,0.0,0.0,0,1,0,176.0,168.0,97.0,23.14,60.0,79.0)
data_array1=np.asarray(data1)
data_array_reshape1=data_array1.reshape(1,-1)
prediction1=logreg.predict(data_array_reshape1)
print(prediction1)
if(prediction1[0]==0):
    print("No heart disease")
else:
    print("Heart disease")

#ROC CURVE
import matplotlib.pyplot as plt
from sklearn.metrics import roc_curve, auc
y_pred_prob = logreg.predict_proba(xtest)[:, 1]
fpr, tpr, _ = roc_curve(ytest, y_pred_prob)
roc_auc = auc(fpr, tpr)
plt.figure()
plt.plot(fpr, tpr, color='darkorange', lw=2, label='ROC curve (area = %0.2f)' % roc_auc)
plt.plot([0, 1], [0, 1], color='navy', lw=2, linestyle='--')
plt.xlim([0.0, 1.0])
plt.ylim([0.0, 1.05])
plt.xlabel('False Positive Rate')
plt.ylabel('True Positive Rate')
plt.title('Receiver Operating Characteristic (ROC) Curve')
plt.legend(loc="lower right")
plt.show()
